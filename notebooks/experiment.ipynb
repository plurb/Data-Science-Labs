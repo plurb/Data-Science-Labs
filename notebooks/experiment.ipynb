{
 "cells": [
  {
   "cell_type": "code",
   "execution_count": 2,
   "outputs": [],
   "source": [
    "import pandas as pd\n",
    "import requests\n",
    "from bs4 import BeautifulSoup"
   ],
   "metadata": {
    "collapsed": false,
    "ExecuteTime": {
     "end_time": "2023-07-26T16:32:53.720472700Z",
     "start_time": "2023-07-26T16:32:51.790148400Z"
    }
   }
  },
  {
   "cell_type": "code",
   "execution_count": 3,
   "outputs": [],
   "source": [
    "tables_wikidot = pd.read_html(\"https://dnd5e.wikidot.com/wizard\")"
   ],
   "metadata": {
    "collapsed": false,
    "ExecuteTime": {
     "end_time": "2023-07-26T16:32:54.929549200Z",
     "start_time": "2023-07-26T16:32:54.483928500Z"
    }
   }
  },
  {
   "cell_type": "code",
   "execution_count": 4,
   "outputs": [],
   "source": [
    "wizard = tables_wikidot[0]"
   ],
   "metadata": {
    "collapsed": false,
    "ExecuteTime": {
     "end_time": "2023-07-26T16:32:56.548537200Z",
     "start_time": "2023-07-26T16:32:56.523679200Z"
    }
   }
  },
  {
   "cell_type": "code",
   "execution_count": 5,
   "outputs": [
    {
     "data": {
      "text/plain": "   The Wizard                                                                  \\\n        Level Proficiency Bonus                       Features Cantrips Known   \n0         1st                 2  Spellcasting, Arcane Recovery              3   \n1         2nd                 2               Arcane Tradition              3   \n2         3rd                 2    Cantrip Formulas (Optional)              3   \n3         4th                 2      Ability Score Improvement              4   \n4         5th                 3                            NaN              4   \n5         6th                 3       Arcane Tradition feature              4   \n6         7th                 3                            NaN              4   \n7         8th                 3      Ability Score Improvement              4   \n8         9th                 4                            NaN              4   \n9        10th                 4       Arcane Tradition feature              5   \n10       11th                 4                            NaN              5   \n11       12th                 4      Ability Score Improvement              5   \n12       13th                 5                            NaN              5   \n13       14th                 5       Arcane Tradition feature              5   \n14       15th                 5                            NaN              5   \n15       16th                 5      Ability Score Improvement              5   \n16       17th                 6                            NaN              5   \n17       18th                 6                  Spell Mastery              5   \n18       19th                 6      Ability Score Improvement              5   \n19       20th                 6               Signature Spells              5   \n\n   Spell Slots per Spell Level                                  \n                           1st 2nd 3rd 4th 5th 6th 7th 8th 9th  \n0                            2   -   -   -   -   -   -   -   -  \n1                            3   -   -   -   -   -   -   -   -  \n2                            4   2   -   -   -   -   -   -   -  \n3                            4   3   -   -   -   -   -   -   -  \n4                            4   3   2   -   -   -   -   -   -  \n5                            4   3   3   -   -   -   -   -   -  \n6                            4   3   3   1   -   -   -   -   -  \n7                            4   3   3   2   -   -   -   -   -  \n8                            4   3   3   3   1   -   -   -   -  \n9                            4   3   3   3   2   -   -   -   -  \n10                           4   3   3   3   2   1   -   -   -  \n11                           4   3   3   3   2   1   -   -   -  \n12                           4   3   3   3   2   1   1   -   -  \n13                           4   3   3   3   2   1   1   -   -  \n14                           4   3   3   3   2   1   1   1   -  \n15                           4   3   3   3   2   1   1   1   -  \n16                           4   3   3   3   2   1   1   1   1  \n17                           4   3   3   3   3   1   1   1   1  \n18                           4   3   3   3   3   2   1   1   1  \n19                           4   3   3   3   3   2   2   1   1  ",
      "text/html": "<div>\n<style scoped>\n    .dataframe tbody tr th:only-of-type {\n        vertical-align: middle;\n    }\n\n    .dataframe tbody tr th {\n        vertical-align: top;\n    }\n\n    .dataframe thead tr th {\n        text-align: left;\n    }\n</style>\n<table border=\"1\" class=\"dataframe\">\n  <thead>\n    <tr>\n      <th></th>\n      <th colspan=\"4\" halign=\"left\">The Wizard</th>\n      <th colspan=\"9\" halign=\"left\">Spell Slots per Spell Level</th>\n    </tr>\n    <tr>\n      <th></th>\n      <th>Level</th>\n      <th>Proficiency Bonus</th>\n      <th>Features</th>\n      <th>Cantrips Known</th>\n      <th>1st</th>\n      <th>2nd</th>\n      <th>3rd</th>\n      <th>4th</th>\n      <th>5th</th>\n      <th>6th</th>\n      <th>7th</th>\n      <th>8th</th>\n      <th>9th</th>\n    </tr>\n  </thead>\n  <tbody>\n    <tr>\n      <th>0</th>\n      <td>1st</td>\n      <td>2</td>\n      <td>Spellcasting, Arcane Recovery</td>\n      <td>3</td>\n      <td>2</td>\n      <td>-</td>\n      <td>-</td>\n      <td>-</td>\n      <td>-</td>\n      <td>-</td>\n      <td>-</td>\n      <td>-</td>\n      <td>-</td>\n    </tr>\n    <tr>\n      <th>1</th>\n      <td>2nd</td>\n      <td>2</td>\n      <td>Arcane Tradition</td>\n      <td>3</td>\n      <td>3</td>\n      <td>-</td>\n      <td>-</td>\n      <td>-</td>\n      <td>-</td>\n      <td>-</td>\n      <td>-</td>\n      <td>-</td>\n      <td>-</td>\n    </tr>\n    <tr>\n      <th>2</th>\n      <td>3rd</td>\n      <td>2</td>\n      <td>Cantrip Formulas (Optional)</td>\n      <td>3</td>\n      <td>4</td>\n      <td>2</td>\n      <td>-</td>\n      <td>-</td>\n      <td>-</td>\n      <td>-</td>\n      <td>-</td>\n      <td>-</td>\n      <td>-</td>\n    </tr>\n    <tr>\n      <th>3</th>\n      <td>4th</td>\n      <td>2</td>\n      <td>Ability Score Improvement</td>\n      <td>4</td>\n      <td>4</td>\n      <td>3</td>\n      <td>-</td>\n      <td>-</td>\n      <td>-</td>\n      <td>-</td>\n      <td>-</td>\n      <td>-</td>\n      <td>-</td>\n    </tr>\n    <tr>\n      <th>4</th>\n      <td>5th</td>\n      <td>3</td>\n      <td>NaN</td>\n      <td>4</td>\n      <td>4</td>\n      <td>3</td>\n      <td>2</td>\n      <td>-</td>\n      <td>-</td>\n      <td>-</td>\n      <td>-</td>\n      <td>-</td>\n      <td>-</td>\n    </tr>\n    <tr>\n      <th>5</th>\n      <td>6th</td>\n      <td>3</td>\n      <td>Arcane Tradition feature</td>\n      <td>4</td>\n      <td>4</td>\n      <td>3</td>\n      <td>3</td>\n      <td>-</td>\n      <td>-</td>\n      <td>-</td>\n      <td>-</td>\n      <td>-</td>\n      <td>-</td>\n    </tr>\n    <tr>\n      <th>6</th>\n      <td>7th</td>\n      <td>3</td>\n      <td>NaN</td>\n      <td>4</td>\n      <td>4</td>\n      <td>3</td>\n      <td>3</td>\n      <td>1</td>\n      <td>-</td>\n      <td>-</td>\n      <td>-</td>\n      <td>-</td>\n      <td>-</td>\n    </tr>\n    <tr>\n      <th>7</th>\n      <td>8th</td>\n      <td>3</td>\n      <td>Ability Score Improvement</td>\n      <td>4</td>\n      <td>4</td>\n      <td>3</td>\n      <td>3</td>\n      <td>2</td>\n      <td>-</td>\n      <td>-</td>\n      <td>-</td>\n      <td>-</td>\n      <td>-</td>\n    </tr>\n    <tr>\n      <th>8</th>\n      <td>9th</td>\n      <td>4</td>\n      <td>NaN</td>\n      <td>4</td>\n      <td>4</td>\n      <td>3</td>\n      <td>3</td>\n      <td>3</td>\n      <td>1</td>\n      <td>-</td>\n      <td>-</td>\n      <td>-</td>\n      <td>-</td>\n    </tr>\n    <tr>\n      <th>9</th>\n      <td>10th</td>\n      <td>4</td>\n      <td>Arcane Tradition feature</td>\n      <td>5</td>\n      <td>4</td>\n      <td>3</td>\n      <td>3</td>\n      <td>3</td>\n      <td>2</td>\n      <td>-</td>\n      <td>-</td>\n      <td>-</td>\n      <td>-</td>\n    </tr>\n    <tr>\n      <th>10</th>\n      <td>11th</td>\n      <td>4</td>\n      <td>NaN</td>\n      <td>5</td>\n      <td>4</td>\n      <td>3</td>\n      <td>3</td>\n      <td>3</td>\n      <td>2</td>\n      <td>1</td>\n      <td>-</td>\n      <td>-</td>\n      <td>-</td>\n    </tr>\n    <tr>\n      <th>11</th>\n      <td>12th</td>\n      <td>4</td>\n      <td>Ability Score Improvement</td>\n      <td>5</td>\n      <td>4</td>\n      <td>3</td>\n      <td>3</td>\n      <td>3</td>\n      <td>2</td>\n      <td>1</td>\n      <td>-</td>\n      <td>-</td>\n      <td>-</td>\n    </tr>\n    <tr>\n      <th>12</th>\n      <td>13th</td>\n      <td>5</td>\n      <td>NaN</td>\n      <td>5</td>\n      <td>4</td>\n      <td>3</td>\n      <td>3</td>\n      <td>3</td>\n      <td>2</td>\n      <td>1</td>\n      <td>1</td>\n      <td>-</td>\n      <td>-</td>\n    </tr>\n    <tr>\n      <th>13</th>\n      <td>14th</td>\n      <td>5</td>\n      <td>Arcane Tradition feature</td>\n      <td>5</td>\n      <td>4</td>\n      <td>3</td>\n      <td>3</td>\n      <td>3</td>\n      <td>2</td>\n      <td>1</td>\n      <td>1</td>\n      <td>-</td>\n      <td>-</td>\n    </tr>\n    <tr>\n      <th>14</th>\n      <td>15th</td>\n      <td>5</td>\n      <td>NaN</td>\n      <td>5</td>\n      <td>4</td>\n      <td>3</td>\n      <td>3</td>\n      <td>3</td>\n      <td>2</td>\n      <td>1</td>\n      <td>1</td>\n      <td>1</td>\n      <td>-</td>\n    </tr>\n    <tr>\n      <th>15</th>\n      <td>16th</td>\n      <td>5</td>\n      <td>Ability Score Improvement</td>\n      <td>5</td>\n      <td>4</td>\n      <td>3</td>\n      <td>3</td>\n      <td>3</td>\n      <td>2</td>\n      <td>1</td>\n      <td>1</td>\n      <td>1</td>\n      <td>-</td>\n    </tr>\n    <tr>\n      <th>16</th>\n      <td>17th</td>\n      <td>6</td>\n      <td>NaN</td>\n      <td>5</td>\n      <td>4</td>\n      <td>3</td>\n      <td>3</td>\n      <td>3</td>\n      <td>2</td>\n      <td>1</td>\n      <td>1</td>\n      <td>1</td>\n      <td>1</td>\n    </tr>\n    <tr>\n      <th>17</th>\n      <td>18th</td>\n      <td>6</td>\n      <td>Spell Mastery</td>\n      <td>5</td>\n      <td>4</td>\n      <td>3</td>\n      <td>3</td>\n      <td>3</td>\n      <td>3</td>\n      <td>1</td>\n      <td>1</td>\n      <td>1</td>\n      <td>1</td>\n    </tr>\n    <tr>\n      <th>18</th>\n      <td>19th</td>\n      <td>6</td>\n      <td>Ability Score Improvement</td>\n      <td>5</td>\n      <td>4</td>\n      <td>3</td>\n      <td>3</td>\n      <td>3</td>\n      <td>3</td>\n      <td>2</td>\n      <td>1</td>\n      <td>1</td>\n      <td>1</td>\n    </tr>\n    <tr>\n      <th>19</th>\n      <td>20th</td>\n      <td>6</td>\n      <td>Signature Spells</td>\n      <td>5</td>\n      <td>4</td>\n      <td>3</td>\n      <td>3</td>\n      <td>3</td>\n      <td>3</td>\n      <td>2</td>\n      <td>2</td>\n      <td>1</td>\n      <td>1</td>\n    </tr>\n  </tbody>\n</table>\n</div>"
     },
     "execution_count": 5,
     "metadata": {},
     "output_type": "execute_result"
    }
   ],
   "source": [
    "wizard"
   ],
   "metadata": {
    "collapsed": false,
    "ExecuteTime": {
     "end_time": "2023-07-26T16:32:58.507146200Z",
     "start_time": "2023-07-26T16:32:58.482007800Z"
    }
   }
  },
  {
   "cell_type": "code",
   "execution_count": 6,
   "outputs": [
    {
     "data": {
      "text/plain": "                       School  \\\n0                  Abjuration   \n1                Bladesinging   \n2                   Chronurgy   \n3                 Conjuration   \n4                  Divination   \n5                 Enchantment   \n6                   Evocation   \n7                  Graviturgy   \n8                    Illusion   \n9                  Necromancy   \n10           Order of Scribes   \n11              Transmutation   \n12                  War Magic   \n13           Unearthed Arcana   \n14                Runecrafter   \n15  Archived Unearthed Arcana   \n16                  Artificer   \n17                  Invention   \n18               Lore Mastery   \n19           Mage of Lorehold   \n20           Mage of Prismari   \n21           Mage of Quandrix   \n22        Mage of Silverquill   \n23                   Onomancy   \n24           Order of Scribes   \n25                   Psionics   \n26                Technomancy   \n27                    Theurgy   \n\n                                               Source  \n0                                   Player's Handbook  \n1   Sword Coast Adventurer's Guide Tasha's Cauldro...  \n2                      Explorer's Guide to Wildemount  \n3                                   Player's Handbook  \n4                                   Player's Handbook  \n5                                   Player's Handbook  \n6                                   Player's Handbook  \n7                      Explorer's Guide to Wildemount  \n8                                   Player's Handbook  \n9                                   Player's Handbook  \n10                     Tasha's Cauldron of Everything  \n11                                  Player's Handbook  \n12                     Xanathar's Guide to Everything  \n13                                   Unearthed Arcana  \n14                Unearthed Arcana 83 - Giant Options  \n15                          Archived Unearthed Arcana  \n16                       Unearthed Arcana 1 - Eberron  \n17             Unearthed Arcana 46 - Three Subclasses  \n18           Unearthed Arcana 29 - Warlock and Wizard  \n19          Unearthed Arcana 79 - Mages of Strixhaven  \n20          Unearthed Arcana 79 - Mages of Strixhaven  \n21          Unearthed Arcana 79 - Mages of Strixhaven  \n22          Unearthed Arcana 79 - Mages of Strixhaven  \n23        Unearthed Arcana 63 - Cleric, Druid, Wizard  \n24         Unearthed Arcana 72 - Subclasses Revisited  \n25       Unearthed Arcana 66 - Fighter, Rogue, Wizard  \n26                  Unearthed Arcana 7 - Modern Magic  \n27             Unearthed Arcana 33 - Wizard Revisited  ",
      "text/html": "<div>\n<style scoped>\n    .dataframe tbody tr th:only-of-type {\n        vertical-align: middle;\n    }\n\n    .dataframe tbody tr th {\n        vertical-align: top;\n    }\n\n    .dataframe thead th {\n        text-align: right;\n    }\n</style>\n<table border=\"1\" class=\"dataframe\">\n  <thead>\n    <tr style=\"text-align: right;\">\n      <th></th>\n      <th>School</th>\n      <th>Source</th>\n    </tr>\n  </thead>\n  <tbody>\n    <tr>\n      <th>0</th>\n      <td>Abjuration</td>\n      <td>Player's Handbook</td>\n    </tr>\n    <tr>\n      <th>1</th>\n      <td>Bladesinging</td>\n      <td>Sword Coast Adventurer's Guide Tasha's Cauldro...</td>\n    </tr>\n    <tr>\n      <th>2</th>\n      <td>Chronurgy</td>\n      <td>Explorer's Guide to Wildemount</td>\n    </tr>\n    <tr>\n      <th>3</th>\n      <td>Conjuration</td>\n      <td>Player's Handbook</td>\n    </tr>\n    <tr>\n      <th>4</th>\n      <td>Divination</td>\n      <td>Player's Handbook</td>\n    </tr>\n    <tr>\n      <th>5</th>\n      <td>Enchantment</td>\n      <td>Player's Handbook</td>\n    </tr>\n    <tr>\n      <th>6</th>\n      <td>Evocation</td>\n      <td>Player's Handbook</td>\n    </tr>\n    <tr>\n      <th>7</th>\n      <td>Graviturgy</td>\n      <td>Explorer's Guide to Wildemount</td>\n    </tr>\n    <tr>\n      <th>8</th>\n      <td>Illusion</td>\n      <td>Player's Handbook</td>\n    </tr>\n    <tr>\n      <th>9</th>\n      <td>Necromancy</td>\n      <td>Player's Handbook</td>\n    </tr>\n    <tr>\n      <th>10</th>\n      <td>Order of Scribes</td>\n      <td>Tasha's Cauldron of Everything</td>\n    </tr>\n    <tr>\n      <th>11</th>\n      <td>Transmutation</td>\n      <td>Player's Handbook</td>\n    </tr>\n    <tr>\n      <th>12</th>\n      <td>War Magic</td>\n      <td>Xanathar's Guide to Everything</td>\n    </tr>\n    <tr>\n      <th>13</th>\n      <td>Unearthed Arcana</td>\n      <td>Unearthed Arcana</td>\n    </tr>\n    <tr>\n      <th>14</th>\n      <td>Runecrafter</td>\n      <td>Unearthed Arcana 83 - Giant Options</td>\n    </tr>\n    <tr>\n      <th>15</th>\n      <td>Archived Unearthed Arcana</td>\n      <td>Archived Unearthed Arcana</td>\n    </tr>\n    <tr>\n      <th>16</th>\n      <td>Artificer</td>\n      <td>Unearthed Arcana 1 - Eberron</td>\n    </tr>\n    <tr>\n      <th>17</th>\n      <td>Invention</td>\n      <td>Unearthed Arcana 46 - Three Subclasses</td>\n    </tr>\n    <tr>\n      <th>18</th>\n      <td>Lore Mastery</td>\n      <td>Unearthed Arcana 29 - Warlock and Wizard</td>\n    </tr>\n    <tr>\n      <th>19</th>\n      <td>Mage of Lorehold</td>\n      <td>Unearthed Arcana 79 - Mages of Strixhaven</td>\n    </tr>\n    <tr>\n      <th>20</th>\n      <td>Mage of Prismari</td>\n      <td>Unearthed Arcana 79 - Mages of Strixhaven</td>\n    </tr>\n    <tr>\n      <th>21</th>\n      <td>Mage of Quandrix</td>\n      <td>Unearthed Arcana 79 - Mages of Strixhaven</td>\n    </tr>\n    <tr>\n      <th>22</th>\n      <td>Mage of Silverquill</td>\n      <td>Unearthed Arcana 79 - Mages of Strixhaven</td>\n    </tr>\n    <tr>\n      <th>23</th>\n      <td>Onomancy</td>\n      <td>Unearthed Arcana 63 - Cleric, Druid, Wizard</td>\n    </tr>\n    <tr>\n      <th>24</th>\n      <td>Order of Scribes</td>\n      <td>Unearthed Arcana 72 - Subclasses Revisited</td>\n    </tr>\n    <tr>\n      <th>25</th>\n      <td>Psionics</td>\n      <td>Unearthed Arcana 66 - Fighter, Rogue, Wizard</td>\n    </tr>\n    <tr>\n      <th>26</th>\n      <td>Technomancy</td>\n      <td>Unearthed Arcana 7 - Modern Magic</td>\n    </tr>\n    <tr>\n      <th>27</th>\n      <td>Theurgy</td>\n      <td>Unearthed Arcana 33 - Wizard Revisited</td>\n    </tr>\n  </tbody>\n</table>\n</div>"
     },
     "execution_count": 6,
     "metadata": {},
     "output_type": "execute_result"
    }
   ],
   "source": [
    "subclasses = tables_wikidot[1]\n",
    "subclasses"
   ],
   "metadata": {
    "collapsed": false,
    "ExecuteTime": {
     "end_time": "2023-07-26T16:33:09.483350800Z",
     "start_time": "2023-07-26T16:33:09.430952700Z"
    }
   }
  },
  {
   "cell_type": "code",
   "execution_count": 7,
   "outputs": [],
   "source": [
    "subclass = subclasses[subclasses.School == \"Abjuration\"]"
   ],
   "metadata": {
    "collapsed": false,
    "ExecuteTime": {
     "end_time": "2023-07-26T16:33:12.101160800Z",
     "start_time": "2023-07-26T16:33:12.079666200Z"
    }
   }
  },
  {
   "cell_type": "code",
   "execution_count": 8,
   "outputs": [
    {
     "data": {
      "text/plain": "       School             Source\n0  Abjuration  Player's Handbook",
      "text/html": "<div>\n<style scoped>\n    .dataframe tbody tr th:only-of-type {\n        vertical-align: middle;\n    }\n\n    .dataframe tbody tr th {\n        vertical-align: top;\n    }\n\n    .dataframe thead th {\n        text-align: right;\n    }\n</style>\n<table border=\"1\" class=\"dataframe\">\n  <thead>\n    <tr style=\"text-align: right;\">\n      <th></th>\n      <th>School</th>\n      <th>Source</th>\n    </tr>\n  </thead>\n  <tbody>\n    <tr>\n      <th>0</th>\n      <td>Abjuration</td>\n      <td>Player's Handbook</td>\n    </tr>\n  </tbody>\n</table>\n</div>"
     },
     "execution_count": 8,
     "metadata": {},
     "output_type": "execute_result"
    }
   ],
   "source": [
    "subclass"
   ],
   "metadata": {
    "collapsed": false,
    "ExecuteTime": {
     "end_time": "2023-07-26T16:33:12.445667100Z",
     "start_time": "2023-07-26T16:33:12.406302200Z"
    }
   }
  },
  {
   "cell_type": "code",
   "execution_count": 9,
   "outputs": [
    {
     "data": {
      "text/plain": "'https://dnd5e.wikidot.com/wizard:Abjuration'"
     },
     "execution_count": 9,
     "metadata": {},
     "output_type": "execute_result"
    }
   ],
   "source": [
    "subclass_link = \"https://dnd5e.wikidot.com/wizard:\" + subclass.School[0]\n",
    "subclass_link"
   ],
   "metadata": {
    "collapsed": false,
    "ExecuteTime": {
     "end_time": "2023-07-26T16:33:13.714916500Z",
     "start_time": "2023-07-26T16:33:13.666739Z"
    }
   }
  },
  {
   "cell_type": "code",
   "execution_count": null,
   "outputs": [],
   "source": [
    "raw = requests.get(subclass_link)\n",
    "raw.text"
   ],
   "metadata": {
    "collapsed": false
   }
  },
  {
   "cell_type": "code",
   "execution_count": 11,
   "outputs": [],
   "source": [
    "soup = BeautifulSoup(raw.text, \"html.parser\")"
   ],
   "metadata": {
    "collapsed": false,
    "ExecuteTime": {
     "end_time": "2023-07-26T16:33:24.719771Z",
     "start_time": "2023-07-26T16:33:24.680643500Z"
    }
   }
  },
  {
   "cell_type": "code",
   "execution_count": 17,
   "outputs": [
    {
     "name": "stdout",
     "output_type": "stream",
     "text": [
      "Abjuration Savant\n",
      "Beginning when you select this school at 2nd level, the gold and time you must spend to copy a abjuration spell into your spellbook is halved.\n",
      "Arcane Ward\n",
      "Starting at 2nd level, you can weave magic around yourself for protection. When you cast an abjuration spell of 1st level or higher, you can simultaneously use a strand of the spell's magic to create a magical ward on yourself that lasts until you finish a long rest. The ward has hit points equal to twice your wizard level + your Intelligence modifier. Whenever you take damage, the ward takes the damage instead. If this damage reduces the ward to 0 hit points, you take any remaining damage.\n",
      "While the ward has 0 hit points, it can't absorb damage, but its magic remains. Whenever you cast an abjuration spell of 1st level or higher, the ward regains a number of hit points equal to twice the level of the spell.\n",
      "Once you create the ward, you can't create it again until you finish a long rest.\n",
      "Projected Ward\n",
      "Starting at 6th level, when a creature that you can see within 30 feet of you takes damage, you can use your reaction to cause your Arcane Ward to absorb that damage. If this damage reduces the ward to 0 hit points, the warded creature takes any remaining damage.\n",
      "Improved Abjuration\n",
      "Beginning at 10th level, when you cast an abjuration spell that requires you to make an ability check as a part of casting that spell (as in Counterspell and Dispel Magic), you add your proficiency bonus to that ability check.\n",
      "Spell Resistance\n",
      "Starting at 14th level, you have advantage on saving throws against spells.\n",
      "Furthermore, you have resistance against the damage of spells.\n"
     ]
    },
    {
     "data": {
      "text/plain": "['Abjuration Savant',\n 'Arcane Ward',\n 'Projected Ward',\n 'Improved Abjuration',\n 'Spell Resistance']"
     },
     "execution_count": 17,
     "metadata": {},
     "output_type": "execute_result"
    }
   ],
   "source": [
    "feature_list = []\n",
    "cont = True\n",
    "target = soup.find('h3')\n",
    "print(target.text)\n",
    "feature_list.append(target.text)\n",
    "for sib in target.find_next_siblings():\n",
    "    if sib.name=='h3':\n",
    "        target = sib\n",
    "        print(target.text)\n",
    "        feature_list.append(target.text)\n",
    "    elif sib.name == 'p':\n",
    "        print(sib.text)\n",
    "    else:\n",
    "        break\n",
    "\n",
    "feature_list\n"
   ],
   "metadata": {
    "collapsed": false,
    "ExecuteTime": {
     "end_time": "2023-07-26T16:39:35.202840200Z",
     "start_time": "2023-07-26T16:39:35.190507Z"
    }
   }
  },
  {
   "cell_type": "code",
   "execution_count": null,
   "outputs": [],
   "source": [],
   "metadata": {
    "collapsed": false
   }
  },
  {
   "cell_type": "code",
   "execution_count": null,
   "outputs": [],
   "source": [],
   "metadata": {
    "collapsed": false
   }
  }
 ],
 "metadata": {
  "kernelspec": {
   "display_name": "Python 3",
   "language": "python",
   "name": "python3"
  },
  "language_info": {
   "codemirror_mode": {
    "name": "ipython",
    "version": 2
   },
   "file_extension": ".py",
   "mimetype": "text/x-python",
   "name": "python",
   "nbconvert_exporter": "python",
   "pygments_lexer": "ipython2",
   "version": "2.7.6"
  }
 },
 "nbformat": 4,
 "nbformat_minor": 0
}
